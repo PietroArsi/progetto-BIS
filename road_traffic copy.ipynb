{
 "cells": [
  {
   "cell_type": "markdown",
   "metadata": {},
   "source": [
    "# Road Traffic Fine Management"
   ]
  },
  {
   "cell_type": "markdown",
   "metadata": {},
   "source": [
    "## Setup"
   ]
  },
  {
   "cell_type": "code",
   "execution_count": null,
   "metadata": {},
   "outputs": [],
   "source": [
    "import pandas as pd\n",
    "import pm4py"
   ]
  },
  {
   "cell_type": "code",
   "execution_count": null,
   "metadata": {},
   "outputs": [],
   "source": [
    "# Import the event log\n",
    "log_raw = pm4py.read_xes(\"Road_Traffic_Fine_Management_Process.xes\")"
   ]
  },
  {
   "cell_type": "code",
   "execution_count": null,
   "metadata": {},
   "outputs": [],
   "source": [
    "log_raw = pm4py.format_dataframe(log_raw, case_id='case:concept:name', activity_key='concept:name', timestamp_key='time:timestamp')\n",
    "log_raw['time:timestamp'] = pd.to_datetime(log_raw['time:timestamp'])\n",
    "\n",
    "log_raw.head(7)"
   ]
  },
  {
   "cell_type": "code",
   "execution_count": null,
   "metadata": {},
   "outputs": [],
   "source": [
    "# Raw log analysis\n",
    "\n",
    "num_events = len(log_raw)\n",
    "num_cases = len(log_raw['case:concept:name'].unique())\n",
    "print(f\"Number of events: {num_events}\\nNumber of cases: {num_cases}\")\n",
    "\n",
    "start_activities = pm4py.get_start_activities(log_raw)\n",
    "end_activities = pm4py.get_end_activities(log_raw)\n",
    "all_activities = log_raw[\"concept:name\"].unique().tolist()\n",
    "print(f\"Start activities: {start_activities}\\nEnd activities: {end_activities}\\nAll activites: {all_activities}\")"
   ]
  },
  {
   "cell_type": "markdown",
   "metadata": {},
   "source": [
    "## Data Cleaning"
   ]
  },
  {
   "cell_type": "markdown",
   "metadata": {},
   "source": [
    "### NaN values"
   ]
  },
  {
   "cell_type": "markdown",
   "metadata": {},
   "source": [
    "Check which columns have NaN values"
   ]
  },
  {
   "cell_type": "code",
   "execution_count": null,
   "metadata": {},
   "outputs": [],
   "source": [
    "log_df = log_raw.copy()\n",
    "\n",
    "for col in log_df:\n",
    "    if log_df[col].isna().any():\n",
    "        print(f\"{col.ljust(22, ' ')}: missing values\")\n",
    "    else:\n",
    "        print(f\"{col.ljust(22, ' ')}: clean\")"
   ]
  },
  {
   "cell_type": "markdown",
   "metadata": {},
   "source": [
    "Change NaN values to _zero_ in columns _amount_, _paymentAmount_, _totalPaymentAmount_ and _expense_"
   ]
  },
  {
   "cell_type": "code",
   "execution_count": null,
   "metadata": {},
   "outputs": [],
   "source": [
    "log_df[\"amount\"] = log_df[\"amount\"].fillna(0)\n",
    "log_df[\"paymentAmount\"] = log_df[\"paymentAmount\"].fillna(0)\n",
    "log_df[\"totalPaymentAmount\"] = log_df[\"totalPaymentAmount\"].fillna(0)\n",
    "log_df[\"expense\"] = log_df[\"expense\"].fillna(0)\n",
    "\n",
    "log_df.head()"
   ]
  },
  {
   "cell_type": "markdown",
   "metadata": {},
   "source": [
    "### Remove matricola column"
   ]
  },
  {
   "cell_type": "markdown",
   "metadata": {},
   "source": [
    "Remove attribute matricola because it's always either NaN or 0, so it's not useful"
   ]
  },
  {
   "cell_type": "code",
   "execution_count": null,
   "metadata": {},
   "outputs": [],
   "source": [
    "print(log_df[\"matricola\"].unique())"
   ]
  },
  {
   "cell_type": "code",
   "execution_count": null,
   "metadata": {},
   "outputs": [],
   "source": [
    "log_df.drop([\"matricola\"], axis=\"columns\", inplace=True)\n",
    "\n",
    "log_df.head()"
   ]
  },
  {
   "cell_type": "markdown",
   "metadata": {},
   "source": [
    "### Rename columns"
   ]
  },
  {
   "cell_type": "code",
   "execution_count": null,
   "metadata": {},
   "outputs": [],
   "source": [
    "# log_df.rename(columns={\"amount\" : \"amount\",\n",
    "#                         \"expense\" : \"extraAmount\",\n",
    "#                         \"paymentAmount\": \"paymentAmount\",\n",
    "#                         \"totalPaymentAmount\" : \"totalAmount\"}, inplace=True)\n",
    "\n",
    "# log_df.head()"
   ]
  },
  {
   "cell_type": "markdown",
   "metadata": {},
   "source": [
    "### Fix _amount_ column"
   ]
  },
  {
   "cell_type": "code",
   "execution_count": null,
   "metadata": {},
   "outputs": [],
   "source": [
    "def correctAmount(log_row):\n",
    "    activity = log_row[\"concept:name\"]\n",
    "\n",
    "    if activity == \"Create Fine\" or activity == \"Add Penalty\":\n",
    "        return log_row[\"amount\"]\n",
    "    elif activity == \"Send Fine\":\n",
    "        return log_row[\"expense\"]\n",
    "    elif activity == \"Payment\":\n",
    "        return log_row[\"paymentAmount\"]\n",
    "    return 0\n",
    "\n",
    "log_df[\"amount\"] = log_df.apply(correctAmount, axis=\"columns\")\n",
    "\n",
    "log_df.head()"
   ]
  },
  {
   "cell_type": "markdown",
   "metadata": {},
   "source": [
    "### Add _dueAmount_ column"
   ]
  },
  {
   "cell_type": "code",
   "execution_count": null,
   "metadata": {},
   "outputs": [],
   "source": [
    "log_df.head(10)"
   ]
  },
  {
   "cell_type": "code",
   "execution_count": null,
   "metadata": {},
   "outputs": [],
   "source": [
    "incr_amount = 0\n",
    "last_case = None\n",
    "def incrementalDueAmount(log_row):\n",
    "    global incr_amount, last_case\n",
    "    if last_case == None or log_row[\"case:concept:name\"] != last_case:\n",
    "        last_case = log_row[\"case:concept:name\"]\n",
    "        incr_amount = log_row[\"amount\"]\n",
    "    else:\n",
    "        incr_amount += log_row[\"amount\"]\n",
    "    return incr_amount\n",
    "\n",
    "log_df[\"dueAmount\"] = log_df.apply(incrementalDueAmount, axis=\"columns\")\n",
    "\n",
    "log_df.head(10)"
   ]
  },
  {
   "cell_type": "markdown",
   "metadata": {},
   "source": [
    "### Add _status_ values"
   ]
  },
  {
   "cell_type": "code",
   "execution_count": null,
   "metadata": {},
   "outputs": [],
   "source": [
    "def setStatus(log_row):\n",
    "    dismissal = log_row[\"dismissal\"]\n",
    "\n",
    "    if dismissal == \"#\":\n",
    "        return \"Prefecture\"\n",
    "    elif dismissal == \"G\":\n",
    "        return \"Judge\"\n",
    "    elif dismissal == \"NIL\":\n",
    "        return \"Not Payed\"\n",
    "    elif pd.isna(dismissal):\n",
    "        return \"Unknown\"\n",
    "    return 0\n",
    "\n",
    "log_df[\"status\"] = log_df.apply(setStatus, axis=\"columns\")\n",
    "\n",
    "log_df.head(10)"
   ]
  },
  {
   "cell_type": "markdown",
   "metadata": {},
   "source": [
    "### Change column order"
   ]
  },
  {
   "cell_type": "markdown",
   "metadata": {},
   "source": [
    "Change order of columns to make the dataframe more readable"
   ]
  },
  {
   "cell_type": "code",
   "execution_count": null,
   "metadata": {},
   "outputs": [],
   "source": [
    "print(log_df.columns)"
   ]
  },
  {
   "cell_type": "code",
   "execution_count": null,
   "metadata": {},
   "outputs": [],
   "source": [
    "columns = ['case:concept:name', 'concept:name', 'org:resource', 'time:timestamp', # general attributes\n",
    "            'amount', 'expense', 'points', 'paymentAmount', # number attributes\n",
    "            'totalPaymentAmount', 'dueAmount', # current total amount paid by offender and total due (sum of fines, expenses and penalties)\n",
    "            'dismissal', 'status', # status code\n",
    "            'lastSent', 'vehicleClass', 'article', 'notificationType',\n",
    "            'lifecycle:transition', '@@index', '@@case_index']\n",
    "\n",
    "log_df = log_df[columns]\n",
    "\n",
    "log_df.head(10)"
   ]
  },
  {
   "cell_type": "markdown",
   "metadata": {},
   "source": [
    "## Data Filtering"
   ]
  },
  {
   "cell_type": "markdown",
   "metadata": {},
   "source": [
    "Remove cases with duration 0 and not ending with a payment"
   ]
  },
  {
   "cell_type": "code",
   "execution_count": null,
   "metadata": {},
   "outputs": [],
   "source": [
    "filtered_log = pm4py.filter_variants(log_df, [('Create Fine', 'Send Fine')], retain=True)\n",
    "filtered_log = pm4py.filter_case_performance(filtered_log, 0, 0)\n",
    "variants = pm4py.get_variants(filtered_log)\n",
    "\n",
    "variants"
   ]
  },
  {
   "cell_type": "code",
   "execution_count": null,
   "metadata": {},
   "outputs": [],
   "source": [
    "log_df = pd.concat([log_df,filtered_log]).drop_duplicates(keep=False)\n",
    "\n",
    "num_events = len(log_df)\n",
    "num_cases = len(log_df['case:concept:name'].unique())\n",
    "print(f\"Number of events: {num_events}\\nNumber of cases: {num_cases}\")"
   ]
  },
  {
   "cell_type": "markdown",
   "metadata": {},
   "source": [
    "Compute duration of cases using a custom function"
   ]
  },
  {
   "cell_type": "code",
   "execution_count": null,
   "metadata": {},
   "outputs": [],
   "source": [
    "log_df.groupby('concept:name').size()"
   ]
  },
  {
   "cell_type": "code",
   "execution_count": null,
   "metadata": {},
   "outputs": [],
   "source": [
    "case_durations = log_df.groupby('case:concept:name').agg(\\\n",
    "    Events=('case:concept:name', 'count'),\n",
    "    FirstOccurence=('time:timestamp', lambda x: x.min()),\n",
    "    LastOccurence=('time:timestamp', lambda x: x.max()),\n",
    "    Duration=('time:timestamp', lambda x: x.max() - x.min()),\n",
    ")\n",
    "\n",
    "case_durations"
   ]
  },
  {
   "cell_type": "code",
   "execution_count": null,
   "metadata": {},
   "outputs": [],
   "source": [
    "# Let's verify we have cases with duration 0\n",
    "min_case_duration = case_durations['Duration'].min()\n",
    "max_case_duration = case_durations['Duration'].max()\n",
    "mean_case_duration = case_durations['Duration'].mean()\n",
    "\n",
    "print(\"Min Case Duration: {}\\nMax Case Duration: {}\\nMean Case Duration: {}\".format(min_case_duration, max_case_duration, mean_case_duration))"
   ]
  }
 ],
 "metadata": {
  "kernelspec": {
   "display_name": ".venv",
   "language": "python",
   "name": "python3"
  },
  "language_info": {
   "codemirror_mode": {
    "name": "ipython",
    "version": 3
   },
   "file_extension": ".py",
   "mimetype": "text/x-python",
   "name": "python",
   "nbconvert_exporter": "python",
   "pygments_lexer": "ipython3",
   "version": "3.11.9"
  }
 },
 "nbformat": 4,
 "nbformat_minor": 2
}
